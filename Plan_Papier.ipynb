{
  "nbformat": 4,
  "nbformat_minor": 0,
  "metadata": {
    "colab": {
      "name": "Plan Papier.ipynb",
      "provenance": [],
      "collapsed_sections": [],
      "toc_visible": true,
      "authorship_tag": "ABX9TyOpt5lwk1ubc1s1ug5fncCM",
      "include_colab_link": true
    },
    "kernelspec": {
      "name": "python3",
      "display_name": "Python 3"
    },
    "language_info": {
      "name": "python"
    }
  },
  "cells": [
    {
      "cell_type": "markdown",
      "metadata": {
        "id": "view-in-github",
        "colab_type": "text"
      },
      "source": [
        "<a href=\"https://colab.research.google.com/github/BSouad/XRay-CovidPy/blob/main/Plan_Papier.ipynb\" target=\"_parent\"><img src=\"https://colab.research.google.com/assets/colab-badge.svg\" alt=\"Open In Colab\"/></a>"
      ]
    },
    {
      "cell_type": "markdown",
      "source": [
        ""
      ],
      "metadata": {
        "id": "t0Y2C1TeS1nv"
      }
    },
    {
      "cell_type": "markdown",
      "source": [
        "\n",
        "#    **Plan Rapport**\n",
        "\n",
        "\n",
        "\n"
      ],
      "metadata": {
        "id": "eQqhQiRnS3r1"
      }
    },
    {
      "cell_type": "markdown",
      "source": [
        "# Abstract\n",
        "\n",
        "Résumé du rapport"
      ],
      "metadata": {
        "id": "Kc_dgHycTRSz"
      }
    },
    {
      "cell_type": "markdown",
      "source": [
        "# Introduction \n",
        "\n",
        "\n",
        "\n",
        "*   Mise en contexte\n",
        "*   Problématique\n",
        "*   Hypothèses\n",
        "*   Portée et limites\n",
        "*   ....\n",
        "\n",
        "\n",
        "\n"
      ],
      "metadata": {
        "id": "pd8EEvyQTtJu"
      }
    },
    {
      "cell_type": "markdown",
      "source": [
        "# Etat de l'art \n",
        "\n",
        "\n",
        "Etat de l'art des études menées et hypothèses traitées autour de cette même problématique"
      ],
      "metadata": {
        "id": "3LnswLwFUAfz"
      }
    },
    {
      "cell_type": "markdown",
      "source": [
        "# Analyses et interprétation des données \n",
        "\n",
        "Décrire les premières données/visualisations extraites des images originales: luminosité/contrast/homogénéité des images/artefacts....etc et les conlusions tirées de ces interprétations. "
      ],
      "metadata": {
        "id": "vyqLzTe-Uotl"
      }
    },
    {
      "cell_type": "markdown",
      "source": [
        "# Préprocessing des données\n",
        "\n",
        "Décrire les différents traitements de préprocessing effectués: \n",
        "* Correction de luminosité \n",
        "* Correction du contrast\n",
        "* Elimination des bords noirs\n",
        "* Segmentation\n",
        " \n",
        "Et GRADCAM avant et après préprocessing pour observer les zones prises en compte par le modèle lors de la prédiction"
      ],
      "metadata": {
        "id": "euqN6DfyWsA6"
      }
    },
    {
      "cell_type": "markdown",
      "source": [
        "# Processing et test des différents  modèles\n",
        "\n",
        "Calcul des scores des différents modèles appliqué sur les images postprocessing et et comparaison avec les valeurs initiales (sur les images originales)\n",
        "\n",
        "Modèles: VGG16, U-Net, ....?"
      ],
      "metadata": {
        "id": "IzJoTXoXZf1Z"
      }
    },
    {
      "cell_type": "markdown",
      "source": [
        "# Analyse des résultats et discussion "
      ],
      "metadata": {
        "id": "RG_KT3cKakR6"
      }
    },
    {
      "cell_type": "markdown",
      "source": [
        "# Conclusion "
      ],
      "metadata": {
        "id": "7XKjMzzFan9T"
      }
    },
    {
      "cell_type": "markdown",
      "source": [
        "# Références et bibliographie "
      ],
      "metadata": {
        "id": "PEsMrqwsaqtZ"
      }
    }
  ]
}